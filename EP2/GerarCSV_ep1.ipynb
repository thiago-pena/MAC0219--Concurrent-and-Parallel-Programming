{
 "cells": [
  {
   "cell_type": "code",
   "execution_count": 1,
   "id": "04a873c1",
   "metadata": {},
   "outputs": [],
   "source": [
    "import pandas as pd"
   ]
  },
  {
   "cell_type": "code",
   "execution_count": 2,
   "id": "36039b6e",
   "metadata": {},
   "outputs": [],
   "source": [
    "df = pd.read_csv('testes-ep1.log', sep=\"\\t\", header=None)\n",
    "df.columns = [\"name\", \"i\", \"num_process\", \"num_threads\", \"time\"]"
   ]
  },
  {
   "cell_type": "code",
   "execution_count": 3,
   "id": "f5730bb1",
   "metadata": {},
   "outputs": [
    {
     "data": {
      "text/html": [
       "<div>\n",
       "<style scoped>\n",
       "    .dataframe tbody tr th:only-of-type {\n",
       "        vertical-align: middle;\n",
       "    }\n",
       "\n",
       "    .dataframe tbody tr th {\n",
       "        vertical-align: top;\n",
       "    }\n",
       "\n",
       "    .dataframe thead th {\n",
       "        text-align: right;\n",
       "    }\n",
       "</style>\n",
       "<table border=\"1\" class=\"dataframe\">\n",
       "  <thead>\n",
       "    <tr style=\"text-align: right;\">\n",
       "      <th></th>\n",
       "      <th>name</th>\n",
       "      <th>i</th>\n",
       "      <th>num_process</th>\n",
       "      <th>num_threads</th>\n",
       "      <th>time</th>\n",
       "    </tr>\n",
       "  </thead>\n",
       "  <tbody>\n",
       "    <tr>\n",
       "      <th>0</th>\n",
       "      <td>mandelbrot_ompi</td>\n",
       "      <td>i: 1</td>\n",
       "      <td>num_process: 1</td>\n",
       "      <td>num_threads: 1</td>\n",
       "      <td>time: 3478927 microsegundos</td>\n",
       "    </tr>\n",
       "    <tr>\n",
       "      <th>1</th>\n",
       "      <td>mandelbrot_ompi</td>\n",
       "      <td>i: 2</td>\n",
       "      <td>num_process: 1</td>\n",
       "      <td>num_threads: 1</td>\n",
       "      <td>time: 3347121 microsegundos</td>\n",
       "    </tr>\n",
       "    <tr>\n",
       "      <th>2</th>\n",
       "      <td>mandelbrot_ompi</td>\n",
       "      <td>i: 3</td>\n",
       "      <td>num_process: 1</td>\n",
       "      <td>num_threads: 1</td>\n",
       "      <td>time: 3341435 microsegundos</td>\n",
       "    </tr>\n",
       "    <tr>\n",
       "      <th>3</th>\n",
       "      <td>mandelbrot_ompi</td>\n",
       "      <td>i: 4</td>\n",
       "      <td>num_process: 1</td>\n",
       "      <td>num_threads: 1</td>\n",
       "      <td>time: 3337816 microsegundos</td>\n",
       "    </tr>\n",
       "    <tr>\n",
       "      <th>4</th>\n",
       "      <td>mandelbrot_ompi</td>\n",
       "      <td>i: 5</td>\n",
       "      <td>num_process: 1</td>\n",
       "      <td>num_threads: 1</td>\n",
       "      <td>time: 3335717 microsegundos</td>\n",
       "    </tr>\n",
       "  </tbody>\n",
       "</table>\n",
       "</div>"
      ],
      "text/plain": [
       "              name     i     num_process     num_threads  \\\n",
       "0  mandelbrot_ompi  i: 1  num_process: 1  num_threads: 1   \n",
       "1  mandelbrot_ompi  i: 2  num_process: 1  num_threads: 1   \n",
       "2  mandelbrot_ompi  i: 3  num_process: 1  num_threads: 1   \n",
       "3  mandelbrot_ompi  i: 4  num_process: 1  num_threads: 1   \n",
       "4  mandelbrot_ompi  i: 5  num_process: 1  num_threads: 1   \n",
       "\n",
       "                          time  \n",
       "0  time: 3478927 microsegundos  \n",
       "1  time: 3347121 microsegundos  \n",
       "2  time: 3341435 microsegundos  \n",
       "3  time: 3337816 microsegundos  \n",
       "4  time: 3335717 microsegundos  "
      ]
     },
     "execution_count": 3,
     "metadata": {},
     "output_type": "execute_result"
    }
   ],
   "source": [
    "df.head()"
   ]
  },
  {
   "cell_type": "code",
   "execution_count": 4,
   "id": "de8649c5",
   "metadata": {},
   "outputs": [],
   "source": [
    "df['i'] = pd.to_numeric(df['i'].apply(lambda x: x[3:]))\n",
    "df['num_process'] = pd.to_numeric(df['num_process'].apply(lambda x: x[13:]))\n",
    "df['num_threads'] = pd.to_numeric(df['num_threads'].apply(lambda x: x[13:]))\n",
    "df['time'] = pd.to_numeric(df['time'].apply(lambda x: x[6:-14]))"
   ]
  },
  {
   "cell_type": "code",
   "execution_count": 5,
   "id": "561e0b16",
   "metadata": {},
   "outputs": [
    {
     "data": {
      "text/html": [
       "<div>\n",
       "<style scoped>\n",
       "    .dataframe tbody tr th:only-of-type {\n",
       "        vertical-align: middle;\n",
       "    }\n",
       "\n",
       "    .dataframe tbody tr th {\n",
       "        vertical-align: top;\n",
       "    }\n",
       "\n",
       "    .dataframe thead th {\n",
       "        text-align: right;\n",
       "    }\n",
       "</style>\n",
       "<table border=\"1\" class=\"dataframe\">\n",
       "  <thead>\n",
       "    <tr style=\"text-align: right;\">\n",
       "      <th></th>\n",
       "      <th>name</th>\n",
       "      <th>i</th>\n",
       "      <th>num_process</th>\n",
       "      <th>num_threads</th>\n",
       "      <th>time</th>\n",
       "    </tr>\n",
       "  </thead>\n",
       "  <tbody>\n",
       "    <tr>\n",
       "      <th>0</th>\n",
       "      <td>mandelbrot_ompi</td>\n",
       "      <td>1</td>\n",
       "      <td>1</td>\n",
       "      <td>1</td>\n",
       "      <td>3478927</td>\n",
       "    </tr>\n",
       "    <tr>\n",
       "      <th>1</th>\n",
       "      <td>mandelbrot_ompi</td>\n",
       "      <td>2</td>\n",
       "      <td>1</td>\n",
       "      <td>1</td>\n",
       "      <td>3347121</td>\n",
       "    </tr>\n",
       "    <tr>\n",
       "      <th>2</th>\n",
       "      <td>mandelbrot_ompi</td>\n",
       "      <td>3</td>\n",
       "      <td>1</td>\n",
       "      <td>1</td>\n",
       "      <td>3341435</td>\n",
       "    </tr>\n",
       "    <tr>\n",
       "      <th>3</th>\n",
       "      <td>mandelbrot_ompi</td>\n",
       "      <td>4</td>\n",
       "      <td>1</td>\n",
       "      <td>1</td>\n",
       "      <td>3337816</td>\n",
       "    </tr>\n",
       "    <tr>\n",
       "      <th>4</th>\n",
       "      <td>mandelbrot_ompi</td>\n",
       "      <td>5</td>\n",
       "      <td>1</td>\n",
       "      <td>1</td>\n",
       "      <td>3335717</td>\n",
       "    </tr>\n",
       "  </tbody>\n",
       "</table>\n",
       "</div>"
      ],
      "text/plain": [
       "              name  i  num_process  num_threads     time\n",
       "0  mandelbrot_ompi  1            1            1  3478927\n",
       "1  mandelbrot_ompi  2            1            1  3347121\n",
       "2  mandelbrot_ompi  3            1            1  3341435\n",
       "3  mandelbrot_ompi  4            1            1  3337816\n",
       "4  mandelbrot_ompi  5            1            1  3335717"
      ]
     },
     "execution_count": 5,
     "metadata": {},
     "output_type": "execute_result"
    }
   ],
   "source": [
    "df.head()"
   ]
  },
  {
   "cell_type": "code",
   "execution_count": 6,
   "id": "b021dbe8",
   "metadata": {},
   "outputs": [],
   "source": [
    "df2 = df.groupby(['name', 'num_process', 'num_threads'], as_index=False).agg({'time':['mean','std']})"
   ]
  },
  {
   "cell_type": "code",
   "execution_count": 7,
   "id": "febd20fb",
   "metadata": {},
   "outputs": [],
   "source": [
    "df2.to_csv('CSV/dados-ep1.csv')"
   ]
  },
  {
   "cell_type": "code",
   "execution_count": 8,
   "id": "86fe4627",
   "metadata": {},
   "outputs": [
    {
     "data": {
      "text/html": [
       "<div>\n",
       "<style scoped>\n",
       "    .dataframe tbody tr th:only-of-type {\n",
       "        vertical-align: middle;\n",
       "    }\n",
       "\n",
       "    .dataframe tbody tr th {\n",
       "        vertical-align: top;\n",
       "    }\n",
       "\n",
       "    .dataframe thead tr th {\n",
       "        text-align: left;\n",
       "    }\n",
       "</style>\n",
       "<table border=\"1\" class=\"dataframe\">\n",
       "  <thead>\n",
       "    <tr>\n",
       "      <th></th>\n",
       "      <th>name</th>\n",
       "      <th>num_process</th>\n",
       "      <th>num_threads</th>\n",
       "      <th colspan=\"2\" halign=\"left\">time</th>\n",
       "    </tr>\n",
       "    <tr>\n",
       "      <th></th>\n",
       "      <th></th>\n",
       "      <th></th>\n",
       "      <th></th>\n",
       "      <th>mean</th>\n",
       "      <th>std</th>\n",
       "    </tr>\n",
       "  </thead>\n",
       "  <tbody>\n",
       "    <tr>\n",
       "      <th>0</th>\n",
       "      <td>mandelbrot_ompi</td>\n",
       "      <td>1</td>\n",
       "      <td>1</td>\n",
       "      <td>3356409.90</td>\n",
       "      <td>43518.036594</td>\n",
       "    </tr>\n",
       "    <tr>\n",
       "      <th>1</th>\n",
       "      <td>mandelbrot_ompi</td>\n",
       "      <td>8</td>\n",
       "      <td>1</td>\n",
       "      <td>1455888.40</td>\n",
       "      <td>131034.630786</td>\n",
       "    </tr>\n",
       "    <tr>\n",
       "      <th>2</th>\n",
       "      <td>mandelbrot_ompi</td>\n",
       "      <td>16</td>\n",
       "      <td>1</td>\n",
       "      <td>1110510.40</td>\n",
       "      <td>88382.052397</td>\n",
       "    </tr>\n",
       "    <tr>\n",
       "      <th>3</th>\n",
       "      <td>mandelbrot_ompi+pth</td>\n",
       "      <td>1</td>\n",
       "      <td>1</td>\n",
       "      <td>3359270.85</td>\n",
       "      <td>18457.942744</td>\n",
       "    </tr>\n",
       "    <tr>\n",
       "      <th>4</th>\n",
       "      <td>mandelbrot_ompi+pth</td>\n",
       "      <td>1</td>\n",
       "      <td>2</td>\n",
       "      <td>1931136.85</td>\n",
       "      <td>938.454400</td>\n",
       "    </tr>\n",
       "  </tbody>\n",
       "</table>\n",
       "</div>"
      ],
      "text/plain": [
       "                  name num_process num_threads        time               \n",
       "                                                      mean            std\n",
       "0      mandelbrot_ompi           1           1  3356409.90   43518.036594\n",
       "1      mandelbrot_ompi           8           1  1455888.40  131034.630786\n",
       "2      mandelbrot_ompi          16           1  1110510.40   88382.052397\n",
       "3  mandelbrot_ompi+pth           1           1  3359270.85   18457.942744\n",
       "4  mandelbrot_ompi+pth           1           2  1931136.85     938.454400"
      ]
     },
     "execution_count": 8,
     "metadata": {},
     "output_type": "execute_result"
    }
   ],
   "source": [
    "df2.head()"
   ]
  }
 ],
 "metadata": {
  "kernelspec": {
   "display_name": "Python 3.8.10 64-bit",
   "language": "python",
   "name": "python3"
  },
  "language_info": {
   "codemirror_mode": {
    "name": "ipython",
    "version": 3
   },
   "file_extension": ".py",
   "mimetype": "text/x-python",
   "name": "python",
   "nbconvert_exporter": "python",
   "pygments_lexer": "ipython3",
   "version": "3.8.10"
  },
  "vscode": {
   "interpreter": {
    "hash": "916dbcbb3f70747c44a77c7bcd40155683ae19c65e1c03b4aa3499c5328201f1"
   }
  }
 },
 "nbformat": 4,
 "nbformat_minor": 5
}
